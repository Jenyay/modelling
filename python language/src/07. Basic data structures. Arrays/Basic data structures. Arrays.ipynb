{
 "cells": [
  {
   "cell_type": "markdown",
   "id": "dd544936-fed6-4c95-b677-149c11707989",
   "metadata": {},
   "source": [
    "## Массивы"
   ]
  },
  {
   "cell_type": "code",
   "execution_count": 1,
   "id": "6372bfed-866d-45ed-a565-90bd768ae9e3",
   "metadata": {},
   "outputs": [],
   "source": [
    "from array import array"
   ]
  },
  {
   "cell_type": "code",
   "execution_count": 2,
   "id": "5a0bc390-0d57-4a98-a2f0-8a3151e153a7",
   "metadata": {},
   "outputs": [
    {
     "name": "stdout",
     "output_type": "stream",
     "text": [
      "<class 'array.array'>\n",
      "array('i', [10, 20, 30])\n"
     ]
    }
   ],
   "source": [
    "a = array(\"i\")\n",
    "a.append(10)\n",
    "a.append(20)\n",
    "a.append(30)\n",
    "\n",
    "print(type(a))\n",
    "print(a)"
   ]
  },
  {
   "cell_type": "code",
   "execution_count": 3,
   "id": "cfe28cd0-b01f-4a28-91ef-212909250481",
   "metadata": {},
   "outputs": [
    {
     "name": "stdout",
     "output_type": "stream",
     "text": [
      "19.8 ns ± 0.85 ns per loop (mean ± std. dev. of 7 runs, 10,000,000 loops each)\n"
     ]
    }
   ],
   "source": [
    "# from timeit import timeit\n",
    "from array import array\n",
    "        \n",
    "foo = []\n",
    "#timeit(lambda: foo.append(100), number=int(1e9))\n",
    "%timeit foo.append(100)\n",
    "\n",
    "del foo"
   ]
  },
  {
   "cell_type": "code",
   "execution_count": 4,
   "id": "c134fa9c",
   "metadata": {},
   "outputs": [
    {
     "name": "stdout",
     "output_type": "stream",
     "text": [
      "73.8 ns ± 0.431 ns per loop (mean ± std. dev. of 7 runs, 10,000,000 loops each)\n"
     ]
    }
   ],
   "source": [
    "# from timeit import timeit\n",
    "from array import array\n",
    "\n",
    "bar = array(\"i\")\n",
    "# timeit(lambda: bar.append(100), number=int(1e9))\n",
    "%timeit bar.append(100)\n",
    "\n",
    "del bar"
   ]
  },
  {
   "cell_type": "code",
   "execution_count": 5,
   "id": "c1d273b5",
   "metadata": {},
   "outputs": [
    {
     "name": "stdout",
     "output_type": "stream",
     "text": [
      "21.2 ns ± 1.07 ns per loop (mean ± std. dev. of 7 runs, 10,000,000 loops each)\n",
      "77.2 ns ± 2.1 ns per loop (mean ± std. dev. of 7 runs, 10,000,000 loops each)\n"
     ]
    }
   ],
   "source": [
    "from array import array\n",
    "\n",
    "foo = []\n",
    "bar = array(\"i\")\n",
    "\n",
    "%timeit foo.append(100)\n",
    "%timeit bar.append(100)"
   ]
  },
  {
   "cell_type": "code",
   "execution_count": null,
   "id": "b34d9116",
   "metadata": {},
   "outputs": [
    {
     "name": "stdout",
     "output_type": "stream",
     "text": [
      "type(foo): <class 'array.array'>\n",
      "foo: array('i')\n",
      "\n",
      "type(bar): <class 'array.array'>\n",
      "bar: array('i', [10, 20, 30, 40])\n"
     ]
    }
   ],
   "source": [
    "import array\n",
    "\n",
    "foo = array.array(\"d\")\n",
    "bar = array.array(\"i\", [10, 20, 30, 40])\n",
    "\n",
    "print(\"type(foo):\", type(foo))\n",
    "print(\"foo:\", foo)\n",
    "print()\n",
    "\n",
    "print(\"type(bar):\", type(bar))\n",
    "print(\"bar:\", bar)"
   ]
  },
  {
   "cell_type": "code",
   "execution_count": 1,
   "id": "63886a19",
   "metadata": {},
   "outputs": [
    {
     "name": "stdout",
     "output_type": "stream",
     "text": [
      "type(foo): <class 'array.array'>\n",
      "foo: array('d')\n",
      "\n",
      "type(bar): <class 'array.array'>\n",
      "bar: array('i', [10, 20, 30, 40])\n"
     ]
    }
   ],
   "source": [
    "from array import array\n",
    "\n",
    "foo = array(\"d\")\n",
    "bar = array(\"i\", [10, 20, 30, 40])\n",
    "\n",
    "print(\"type(foo):\", type(foo))\n",
    "print(\"foo:\", foo)\n",
    "print()\n",
    "\n",
    "print(\"type(bar):\", type(bar))\n",
    "print(\"bar:\", bar)"
   ]
  },
  {
   "cell_type": "code",
   "execution_count": 8,
   "id": "09ee4acc",
   "metadata": {},
   "outputs": [
    {
     "name": "stdout",
     "output_type": "stream",
     "text": [
      "['__add__', '__class__', '__contains__', '__copy__', '__deepcopy__', '__delattr__', '__delitem__', '__dir__', '__doc__', '__eq__', '__format__', '__ge__', '__getattribute__', '__getitem__', '__getstate__', '__gt__', '__hash__', '__iadd__', '__imul__', '__init__', '__init_subclass__', '__iter__', '__le__', '__len__', '__lt__', '__module__', '__mul__', '__ne__', '__new__', '__reduce__', '__reduce_ex__', '__repr__', '__rmul__', '__setattr__', '__setitem__', '__sizeof__', '__str__', '__subclasshook__', 'append', 'buffer_info', 'byteswap', 'count', 'extend', 'frombytes', 'fromfile', 'fromlist', 'fromunicode', 'index', 'insert', 'itemsize', 'pop', 'remove', 'reverse', 'tobytes', 'tofile', 'tolist', 'tounicode', 'typecode']\n"
     ]
    }
   ],
   "source": [
    "from array import array\n",
    "\n",
    "print(dir(array))"
   ]
  },
  {
   "cell_type": "code",
   "execution_count": 2,
   "id": "27a6b2e1",
   "metadata": {},
   "outputs": [
    {
     "name": "stdout",
     "output_type": "stream",
     "text": [
      "array('i', [1, 2, 3, 10, 20, 30, 40])\n"
     ]
    }
   ],
   "source": [
    "from array import array\n",
    "\n",
    "foo = array(\"i\", [1, 2, 3])\n",
    "bar = array(\"i\", [10, 20, 30, 40])\n",
    "\n",
    "foo.extend(bar)\n",
    "\n",
    "print (foo)"
   ]
  },
  {
   "cell_type": "code",
   "execution_count": 4,
   "id": "a28b5ddb",
   "metadata": {},
   "outputs": [
    {
     "name": "stdout",
     "output_type": "stream",
     "text": [
      "array('i', [1, 2, 3, 10, 20, 30, 40])\n"
     ]
    }
   ],
   "source": [
    "from array import array\n",
    "\n",
    "foo = array(\"i\", [1, 2, 3])\n",
    "bar = [10, 20, 30, 40]\n",
    "\n",
    "foo.extend(bar)\n",
    "\n",
    "print (foo)"
   ]
  },
  {
   "cell_type": "code",
   "execution_count": 7,
   "id": "01d15d3f",
   "metadata": {},
   "outputs": [],
   "source": [
    "from array import array\n",
    "\n",
    "foo = array(\"i\", [1, 2, 3])\n",
    "bar = [10.0, 20.0, 30.0, 40.0]\n",
    "\n",
    "# foo.extend(bar)\n",
    "\n",
    "# Traceback (most recent call last):\n",
    "#   File \"<stdin>\", line 1, in <module>\n",
    "# TypeError: 'float' object cannot be interpreted as an integer"
   ]
  },
  {
   "cell_type": "code",
   "execution_count": null,
   "id": "ca246071",
   "metadata": {},
   "outputs": [],
   "source": []
  }
 ],
 "metadata": {
  "kernelspec": {
   "display_name": "Python 3 (ipykernel)",
   "language": "python",
   "name": "python3"
  },
  "language_info": {
   "codemirror_mode": {
    "name": "ipython",
    "version": 3
   },
   "file_extension": ".py",
   "mimetype": "text/x-python",
   "name": "python",
   "nbconvert_exporter": "python",
   "pygments_lexer": "ipython3",
   "version": "3.12.4"
  }
 },
 "nbformat": 4,
 "nbformat_minor": 5
}
