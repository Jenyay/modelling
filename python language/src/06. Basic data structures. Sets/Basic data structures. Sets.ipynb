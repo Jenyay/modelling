{
 "cells": [
  {
   "cell_type": "markdown",
   "metadata": {},
   "source": [
    "## Создание множеств"
   ]
  },
  {
   "cell_type": "code",
   "execution_count": 11,
   "metadata": {},
   "outputs": [
    {
     "name": "stdout",
     "output_type": "stream",
     "text": [
      "type(foo): <class 'set'>\n",
      "foo: set()\n",
      "bar: {10, 100, 20, 30}\n",
      "baz: {'b', 'd', 'r', 'a', 'c'}\n",
      "spam: {'hello', 42, 3.14, 100}\n"
     ]
    }
   ],
   "source": [
    "foo = set()\n",
    "bar = set([100, 10, 20, 30, 30, 10])\n",
    "baz = set(\"abracadabra\")\n",
    "spam = {100, \"hello\", 42, 3.14}\n",
    "\n",
    "print(\"type(foo):\", type(foo))\n",
    "print(\"foo:\", foo)\n",
    "print(\"bar:\", bar)\n",
    "print(\"baz:\", baz)\n",
    "print(\"spam:\", spam)"
   ]
  },
  {
   "cell_type": "code",
   "execution_count": 15,
   "metadata": {},
   "outputs": [
    {
     "name": "stdout",
     "output_type": "stream",
     "text": [
      "{105, 35, 25, 15}\n"
     ]
    },
    {
     "data": {
      "text/plain": [
       "{15, 25, 35}"
      ]
     },
     "execution_count": 15,
     "metadata": {},
     "output_type": "execute_result"
    }
   ],
   "source": [
    "foo = [100, 10, 20, 30, 30, 10]\n",
    "bar = {n + 5 for n in foo}\n",
    "print(bar)\n",
    "baz = {n + 5 for n in foo if n < 50}\n",
    "baz"
   ]
  },
  {
   "cell_type": "code",
   "execution_count": 2,
   "metadata": {},
   "outputs": [
    {
     "name": "stdout",
     "output_type": "stream",
     "text": [
      "foo: {10, 100, 20, 30}\n",
      "bar: {'c', 'r', 'b', 'a', 'd'}\n",
      "spam: {42, 3.14, 100, 'hello'}\n"
     ]
    }
   ],
   "source": [
    "# Создание множеств на основе итерируемых объектов\n",
    "foo = set([100, 10, 20, 30, 30, 10])\n",
    "print(\"foo:\", foo)\n",
    "\n",
    "bar = set(\"abracadabra\")\n",
    "print(\"bar:\", bar)\n",
    "\n",
    "spam = set([100, \"hello\", 42, 3.14])\n",
    "print(\"spam:\", spam)"
   ]
  },
  {
   "cell_type": "code",
   "execution_count": 3,
   "metadata": {},
   "outputs": [
    {
     "name": "stdout",
     "output_type": "stream",
     "text": [
      "type(foo):  <class 'set'>\n",
      "foo:        {10, 100, 20, 30}\n",
      "\n",
      "type(bar):  <class 'set'>\n",
      "bar:        {21, 11, 101, 31}\n",
      "\n",
      "type(spam):  <class 'dict'>\n"
     ]
    }
   ],
   "source": [
    "# Создание множеств с использованием фигурных скобок\n",
    "foo = {100, 10, 20, 30, 30, 10}\n",
    "print(\"type(foo): \", type(foo))\n",
    "print(\"foo:       \", foo)\n",
    "print()\n",
    "\n",
    "bar = {item + 1 for item in [100, 10, 20, 30, 30, 10]}\n",
    "print(\"type(bar): \", type(bar))\n",
    "print(\"bar:       \", bar)\n",
    "print()\n",
    "\n",
    "# !!! Следующая строка создаст словарь\n",
    "spam = {}\n",
    "print(\"type(spam): \", type(spam))"
   ]
  },
  {
   "cell_type": "code",
   "execution_count": 4,
   "metadata": {},
   "outputs": [],
   "source": [
    "# Не все типы могут входить в множество\n",
    "\n",
    "# Ошибка!\n",
    "# foo = {1, 2, [100, 200]}"
   ]
  },
  {
   "cell_type": "code",
   "execution_count": 31,
   "metadata": {},
   "outputs": [
    {
     "name": "stdout",
     "output_type": "stream",
     "text": [
      "foo: {1, 2, (100, 200)}\n"
     ]
    }
   ],
   "source": [
    "# Кортежи могут входить в множество\n",
    "\n",
    "foo = {1, 2, (100, 200)}\n",
    "print(\"foo:\", foo)"
   ]
  },
  {
   "cell_type": "markdown",
   "metadata": {},
   "source": [
    "## Операции со множествами"
   ]
  },
  {
   "cell_type": "code",
   "execution_count": 34,
   "metadata": {},
   "outputs": [
    {
     "name": "stdout",
     "output_type": "stream",
     "text": [
      "100 in foo: True\n",
      "110 in foo: False\n",
      "20 not in foo: False\n",
      "120 not in foo: True\n"
     ]
    }
   ],
   "source": [
    "# Проверка наличия элемента в множестве\n",
    "\n",
    "foo = {100, 10, 20, 30}\n",
    "\n",
    "print(\"100 in foo:\", 100 in foo)\n",
    "print(\"110 in foo:\", 110 in foo)\n",
    "print(\"20 not in foo:\", 20 not in foo)\n",
    "print(\"120 not in foo:\", 120 not in foo)"
   ]
  },
  {
   "cell_type": "code",
   "execution_count": 5,
   "metadata": {},
   "outputs": [
    {
     "name": "stdout",
     "output_type": "stream",
     "text": [
      "10\n",
      "100\n",
      "20\n",
      "30\n"
     ]
    }
   ],
   "source": [
    "# Перебор элементов множества\n",
    "foo = {100, 10, 20, 30, 30, 10}\n",
    "\n",
    "for item in foo:\n",
    "    print(item)"
   ]
  },
  {
   "cell_type": "code",
   "execution_count": 7,
   "metadata": {},
   "outputs": [
    {
     "name": "stdout",
     "output_type": "stream",
     "text": [
      "foo: {10, 100, 20, 30}\n",
      "len(foo): 4\n"
     ]
    }
   ],
   "source": [
    "# Определение количества элементов множества\n",
    "foo = {100, 10, 20, 30, 30, 10}\n",
    "\n",
    "print(\"foo:\", foo)\n",
    "print(\"len(foo):\", len(foo))"
   ]
  },
  {
   "cell_type": "code",
   "execution_count": 35,
   "metadata": {},
   "outputs": [
    {
     "name": "stdout",
     "output_type": "stream",
     "text": [
      "['__and__', '__class__', '__class_getitem__', '__contains__', '__delattr__', '__dir__', '__doc__', '__eq__', '__format__', '__ge__', '__getattribute__', '__getstate__', '__gt__', '__hash__', '__iand__', '__init__', '__init_subclass__', '__ior__', '__isub__', '__iter__', '__ixor__', '__le__', '__len__', '__lt__', '__ne__', '__new__', '__or__', '__rand__', '__reduce__', '__reduce_ex__', '__repr__', '__ror__', '__rsub__', '__rxor__', '__setattr__', '__sizeof__', '__str__', '__sub__', '__subclasshook__', '__xor__', 'add', 'clear', 'copy', 'difference', 'difference_update', 'discard', 'intersection', 'intersection_update', 'isdisjoint', 'issubset', 'issuperset', 'pop', 'remove', 'symmetric_difference', 'symmetric_difference_update', 'union', 'update']\n"
     ]
    }
   ],
   "source": [
    "print(dir(set))"
   ]
  },
  {
   "cell_type": "code",
   "execution_count": 8,
   "metadata": {},
   "outputs": [
    {
     "name": "stdout",
     "output_type": "stream",
     "text": [
      "foo: {0, 100, 10, 20, 30}\n"
     ]
    }
   ],
   "source": [
    "# Добавление элемента в множество\n",
    "foo = {100, 10, 20, 30, 30, 10}\n",
    "\n",
    "foo.add(0)\n",
    "print(\"foo:\", foo)"
   ]
  },
  {
   "cell_type": "code",
   "execution_count": 9,
   "metadata": {},
   "outputs": [
    {
     "name": "stdout",
     "output_type": "stream",
     "text": [
      "1) foo: {10, 20, 30}\n",
      "2) foo: {40, 10, 20, 30}\n",
      "3) foo: {50, 20, 40, 10, 60, 30}\n"
     ]
    }
   ],
   "source": [
    "# Добавление элементов из других объектов\n",
    "foo = {10, 20, 30}\n",
    "bar = [10, 30, 40]\n",
    "spam = {40, 50, 60}\n",
    "\n",
    "print(\"1) foo:\", foo)\n",
    "\n",
    "foo.update(bar)\n",
    "print(\"2) foo:\", foo)\n",
    "\n",
    "foo.update(spam)\n",
    "print(\"3) foo:\", foo)"
   ]
  },
  {
   "cell_type": "code",
   "execution_count": 10,
   "metadata": {},
   "outputs": [
    {
     "name": "stdout",
     "output_type": "stream",
     "text": [
      "1) foo: {10, 20, 30}\n",
      "2) foo: {50, 20, 40, 10, 60, 30}\n"
     ]
    }
   ],
   "source": [
    "# Добавление элементов из других объектов\n",
    "foo = {10, 20, 30}\n",
    "bar = [10, 30, 40]\n",
    "spam = {40, 50, 60}\n",
    "\n",
    "print(\"1) foo:\", foo)\n",
    "\n",
    "foo.update(bar, spam)\n",
    "print(\"2) foo:\", foo)"
   ]
  },
  {
   "cell_type": "code",
   "execution_count": 11,
   "metadata": {},
   "outputs": [
    {
     "name": "stdout",
     "output_type": "stream",
     "text": [
      "spam: {20, 40, 10, 30}\n"
     ]
    }
   ],
   "source": [
    "# Объединение множеств\n",
    "foo = {10, 20, 30}\n",
    "bar = {10, 30, 40}\n",
    "\n",
    "spam = foo | bar\n",
    "print(\"spam:\", spam)\n"
   ]
  },
  {
   "cell_type": "code",
   "execution_count": 12,
   "metadata": {},
   "outputs": [
    {
     "name": "stdout",
     "output_type": "stream",
     "text": [
      "foo: {20, 40, 10, 30}\n"
     ]
    }
   ],
   "source": [
    "# Объединение множеств\n",
    "foo = {10, 20, 30}\n",
    "bar = {10, 30, 40}\n",
    "\n",
    "foo |= bar\n",
    "print(\"foo:\", foo)"
   ]
  },
  {
   "cell_type": "code",
   "execution_count": 13,
   "metadata": {},
   "outputs": [
    {
     "name": "stdout",
     "output_type": "stream",
     "text": [
      "foo: {10, 20, 30}\n"
     ]
    }
   ],
   "source": [
    "# Удаление элемента из множества\n",
    "foo = {100, 10, 20, 30, 30, 10}\n",
    "\n",
    "foo.remove(100)\n",
    "print(\"foo:\", foo)"
   ]
  },
  {
   "cell_type": "code",
   "execution_count": 14,
   "metadata": {},
   "outputs": [],
   "source": [
    "# Попытка удалить несуществующий элемент\n",
    "foo = {100, 10, 20, 30, 30, 10}\n",
    "\n",
    "# Ошибка!\n",
    "# foo.remove(42)"
   ]
  },
  {
   "cell_type": "code",
   "execution_count": 15,
   "metadata": {},
   "outputs": [
    {
     "name": "stdout",
     "output_type": "stream",
     "text": [
      "1) foo: {10, 20, 30}\n",
      "2) foo: {10, 20, 30}\n"
     ]
    }
   ],
   "source": [
    "# Удаление элемента из множества с проверкой наличия элемента\n",
    "foo = {100, 10, 20, 30, 30, 10}\n",
    "\n",
    "foo.discard(100)\n",
    "print(\"1) foo:\", foo)\n",
    "\n",
    "foo.discard(0)\n",
    "print(\"2) foo:\", foo)"
   ]
  },
  {
   "cell_type": "code",
   "execution_count": 16,
   "metadata": {},
   "outputs": [
    {
     "name": "stdout",
     "output_type": "stream",
     "text": [
      "foo: set()\n"
     ]
    }
   ],
   "source": [
    "# Удаление всех элементов из множества\n",
    "foo = {100, 10, 20, 30, 30, 10}\n",
    "\n",
    "foo.clear()\n",
    "print(\"foo:\", foo)"
   ]
  },
  {
   "cell_type": "code",
   "execution_count": 17,
   "metadata": {},
   "outputs": [
    {
     "name": "stdout",
     "output_type": "stream",
     "text": [
      "spam: {20}\n"
     ]
    }
   ],
   "source": [
    "# Получение разности множеств\n",
    "foo = {10, 20, 30}\n",
    "bar = {10, 30, 40}\n",
    "\n",
    "spam = foo - bar\n",
    "print(\"spam:\", spam)"
   ]
  },
  {
   "cell_type": "code",
   "execution_count": 18,
   "metadata": {},
   "outputs": [
    {
     "name": "stdout",
     "output_type": "stream",
     "text": [
      "foo: {20}\n"
     ]
    }
   ],
   "source": [
    "# Получение разности множеств\n",
    "foo = {10, 20, 30}\n",
    "bar = {10, 30, 40}\n",
    "\n",
    "foo -= bar\n",
    "print(\"foo:\", foo)"
   ]
  },
  {
   "cell_type": "code",
   "execution_count": 19,
   "metadata": {},
   "outputs": [
    {
     "name": "stdout",
     "output_type": "stream",
     "text": [
      "spam: {10, 30}\n"
     ]
    }
   ],
   "source": [
    "# Нахождение пересечения множеств\n",
    "foo = {10, 20, 30}\n",
    "bar = {10, 30, 40}\n",
    "\n",
    "spam = foo & bar\n",
    "print(\"spam:\", spam)"
   ]
  },
  {
   "cell_type": "code",
   "execution_count": 20,
   "metadata": {},
   "outputs": [
    {
     "name": "stdout",
     "output_type": "stream",
     "text": [
      "foo: {10, 30}\n"
     ]
    }
   ],
   "source": [
    "# Нахождение пересечения множеств\n",
    "foo = {10, 20, 30}\n",
    "bar = {10, 30, 40}\n",
    "\n",
    "foo &= bar\n",
    "print(\"foo:\", foo)"
   ]
  },
  {
   "cell_type": "code",
   "execution_count": 21,
   "metadata": {},
   "outputs": [
    {
     "name": "stdout",
     "output_type": "stream",
     "text": [
      "spam: {40, 20}\n"
     ]
    }
   ],
   "source": [
    "# Получение симметричной разности множеств\n",
    "foo = {10, 20, 30}\n",
    "bar = {10, 30, 40}\n",
    "\n",
    "spam = foo ^ bar\n",
    "print(\"spam:\", spam)"
   ]
  },
  {
   "cell_type": "code",
   "execution_count": 22,
   "metadata": {},
   "outputs": [
    {
     "name": "stdout",
     "output_type": "stream",
     "text": [
      "foo: {40, 20}\n"
     ]
    }
   ],
   "source": [
    "# Получение симметричной разности множеств\n",
    "foo = {10, 20, 30}\n",
    "bar = {10, 30, 40}\n",
    "\n",
    "foo ^= bar\n",
    "print(\"foo:\", foo)"
   ]
  },
  {
   "cell_type": "code",
   "execution_count": 1,
   "metadata": {},
   "outputs": [
    {
     "name": "stdout",
     "output_type": "stream",
     "text": [
      "foo > bar:    False\n",
      "foo >= bar:   False\n",
      "foo < bar:    False\n",
      "foo <= bar:   False\n",
      "foo == bar:   False\n",
      "\n",
      "foo > spam:   True\n",
      "foo > baz:    False\n",
      "\n",
      "foo > eggs:   False\n",
      "foo >= eggs:  True\n",
      "foo == eggs:  True\n",
      "foo is eggs:  False\n"
     ]
    }
   ],
   "source": [
    "# Сравнение множеств\n",
    "foo = {10, 20, 30}\n",
    "bar = {10, 30, 40}\n",
    "spam = {30, 10}\n",
    "baz = {40, 10}\n",
    "eggs = {30, 20, 10}\n",
    "\n",
    "print(\"foo > bar:   \", foo > bar)\n",
    "print(\"foo >= bar:  \", foo >= bar)\n",
    "print(\"foo < bar:   \", foo < bar)\n",
    "print(\"foo <= bar:  \", foo <= bar)\n",
    "print(\"foo == bar:  \", foo == bar)\n",
    "\n",
    "print()\n",
    "print(\"foo > spam:  \", foo > spam)\n",
    "print(\"foo > baz:   \", foo > baz)\n",
    "\n",
    "print()\n",
    "print(\"foo > eggs:  \", foo > eggs)\n",
    "print(\"foo >= eggs: \", foo >= eggs)\n",
    "print(\"foo == eggs: \", foo == eggs)\n",
    "print(\"foo is eggs: \", foo is eggs)"
   ]
  },
  {
   "cell_type": "code",
   "execution_count": 24,
   "metadata": {},
   "outputs": [
    {
     "name": "stdout",
     "output_type": "stream",
     "text": [
      "type(foo):   <class 'frozenset'>\n",
      "foo:         frozenset()\n",
      "type(bar):   <class 'frozenset'>\n",
      "bar:         frozenset({10, 20, 30})\n",
      "type(spam):  <class 'frozenset'>\n",
      "spam:        frozenset({42, 20, 30})\n"
     ]
    }
   ],
   "source": [
    "# Создание неизменяемых множеств\n",
    "\n",
    "foo = frozenset()\n",
    "bar = frozenset({10, 20, 30, 10})\n",
    "spam = frozenset([20, 30, 42, 42])\n",
    "\n",
    "print(\"type(foo):  \", type(foo))\n",
    "print(\"foo:        \", foo)\n",
    "print(\"type(bar):  \", type(bar))\n",
    "print(\"bar:        \", bar)\n",
    "print(\"type(spam): \", type(spam))\n",
    "print(\"spam:       \", spam)"
   ]
  },
  {
   "cell_type": "code",
   "execution_count": 25,
   "metadata": {},
   "outputs": [
    {
     "name": "stdout",
     "output_type": "stream",
     "text": [
      "['__and__', '__class__', '__class_getitem__', '__contains__', '__delattr__', '__dir__', '__doc__', '__eq__', '__format__', '__ge__', '__getattribute__', '__getstate__', '__gt__', '__hash__', '__init__', '__init_subclass__', '__iter__', '__le__', '__len__', '__lt__', '__ne__', '__new__', '__or__', '__rand__', '__reduce__', '__reduce_ex__', '__repr__', '__ror__', '__rsub__', '__rxor__', '__setattr__', '__sizeof__', '__str__', '__sub__', '__subclasshook__', '__xor__', 'copy', 'difference', 'intersection', 'isdisjoint', 'issubset', 'issuperset', 'symmetric_difference', 'union']\n"
     ]
    }
   ],
   "source": [
    "print(dir(frozenset))"
   ]
  },
  {
   "cell_type": "code",
   "execution_count": 26,
   "metadata": {},
   "outputs": [
    {
     "name": "stdout",
     "output_type": "stream",
     "text": [
      "foo: frozenset({20, 40, 10, 30})\n"
     ]
    }
   ],
   "source": [
    "# Попытка \"изменения\" frozenset\n",
    "foo = frozenset({10, 20, 30})\n",
    "bar = {10, 30, 40}\n",
    "\n",
    "foo |= bar\n",
    "print(\"foo:\", foo)"
   ]
  },
  {
   "cell_type": "code",
   "execution_count": 27,
   "metadata": {},
   "outputs": [
    {
     "name": "stdout",
     "output_type": "stream",
     "text": [
      "foo: frozenset({20, 40, 10, 30})\n"
     ]
    }
   ],
   "source": [
    "# Попытка \"изменения\" frozenset\n",
    "foo = frozenset({10, 20, 30})\n",
    "bar = {10, 30, 40}\n",
    "\n",
    "foo = foo | bar\n",
    "print(\"foo:\", foo)"
   ]
  },
  {
   "cell_type": "code",
   "execution_count": 28,
   "metadata": {},
   "outputs": [
    {
     "name": "stdout",
     "output_type": "stream",
     "text": [
      "foo: frozenset({20, 40, 10, 30})\n"
     ]
    }
   ],
   "source": [
    "# Попытка \"изменения\" frozenset\n",
    "foo = frozenset({10, 20, 30})\n",
    "bar = {10, 30, 40}\n",
    "\n",
    "spam = foo | bar\n",
    "foo = spam\n",
    "\n",
    "print(\"foo:\", foo)"
   ]
  },
  {
   "cell_type": "code",
   "execution_count": 29,
   "metadata": {},
   "outputs": [
    {
     "name": "stdout",
     "output_type": "stream",
     "text": [
      "1) spam is foo: True\n",
      "    foo:     frozenset({10, 20, 30})\n",
      "    spam:    frozenset({10, 20, 30})\n",
      "    id(foo): 139857574040224\n",
      "2) spam is foo: False\n",
      "    foo:     frozenset({20, 40, 10, 30})\n",
      "    spam:    frozenset({10, 20, 30})\n",
      "    id(foo): 139857574041568\n"
     ]
    }
   ],
   "source": [
    "# Попытка \"изменения\" frozenset\n",
    "foo = frozenset({10, 20, 30})\n",
    "bar = {10, 30, 40}\n",
    "\n",
    "spam = foo\n",
    "print(\"1) spam is foo:\", spam is foo)\n",
    "print(\"    foo:    \", foo)\n",
    "print(\"    spam:   \", spam)\n",
    "print(\"    id(foo):\", id(foo))\n",
    "\n",
    "foo |= bar\n",
    "\n",
    "print(\"2) spam is foo:\", spam is foo)\n",
    "print(\"    foo:    \", foo)\n",
    "print(\"    spam:   \", spam)\n",
    "print(\"    id(foo):\", id(foo))"
   ]
  },
  {
   "cell_type": "code",
   "execution_count": 30,
   "metadata": {},
   "outputs": [
    {
     "name": "stdout",
     "output_type": "stream",
     "text": [
      "hash(foo): 1046241836650535896\n",
      "hash(bar): 1287282707040401033\n",
      "spam: {frozenset({10, 20, 30}): 'foo_value', frozenset({40, 20, 30}): 'bar_value'}\n"
     ]
    }
   ],
   "source": [
    "# frozenset - хэшируемый объект\n",
    "foo = frozenset({10, 20, 30})\n",
    "bar = frozenset({20, 30, 40})\n",
    "\n",
    "print(\"hash(foo):\", hash(foo))\n",
    "print(\"hash(bar):\", hash(bar))\n",
    "\n",
    "spam = {foo: \"foo_value\", bar: \"bar_value\"}\n",
    "\n",
    "print(\"spam:\", spam)"
   ]
  },
  {
   "cell_type": "code",
   "execution_count": null,
   "metadata": {},
   "outputs": [],
   "source": []
  }
 ],
 "metadata": {
  "kernelspec": {
   "display_name": "Python 3",
   "language": "python",
   "name": "python3"
  },
  "language_info": {
   "codemirror_mode": {
    "name": "ipython",
    "version": 3
   },
   "file_extension": ".py",
   "mimetype": "text/x-python",
   "name": "python",
   "nbconvert_exporter": "python",
   "pygments_lexer": "ipython3",
   "version": "3.12.4"
  }
 },
 "nbformat": 4,
 "nbformat_minor": 2
}
