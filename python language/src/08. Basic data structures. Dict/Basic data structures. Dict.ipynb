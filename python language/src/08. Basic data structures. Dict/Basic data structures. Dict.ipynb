{
 "cells": [
  {
   "cell_type": "code",
   "execution_count": 1,
   "metadata": {},
   "outputs": [
    {
     "name": "stdout",
     "output_type": "stream",
     "text": [
      "foo: {}\n",
      "bar: {'key_1': 10, 'key_2': 'Hello, world', 'key_3': [10, 20, 30]}\n",
      "type(bar): <class 'dict'>\n"
     ]
    }
   ],
   "source": [
    "# Создание пустого словаря\n",
    "foo = {}\n",
    "\n",
    "# Создание заполненного словаря\n",
    "bar = {\n",
    "    \"key_1\": 10,\n",
    "    \"key_2\": \"Hello, world\",\n",
    "    \"key_3\": [10, 20, 30]\n",
    "}\n",
    "\n",
    "print(\"foo:\", foo)\n",
    "print(\"bar:\", bar)\n",
    "print(\"type(bar):\", type(bar))"
   ]
  },
  {
   "cell_type": "code",
   "execution_count": 12,
   "metadata": {},
   "outputs": [
    {
     "name": "stdout",
     "output_type": "stream",
     "text": [
      "foo: {}\n",
      "bar: {'key_1': 10, 'key_2': 'Hello, world', 'key_3': [10, 20, 30]}\n",
      "spam: {'key_1': 10, 'key_2': 'Hello, world', 'key_3': [10, 20, 30]}\n"
     ]
    }
   ],
   "source": [
    "foo = dict()\n",
    "\n",
    "bar = dict(key_1=10, \n",
    "           key_2=\"Hello, world\", \n",
    "           key_3=[10, 20, 30])\n",
    "\n",
    "spam = dict([\n",
    "    (\"key_1\", 10), \n",
    "    (\"key_2\", \"Hello, world\"), \n",
    "    (\"key_3\", [10, 20, 30])\n",
    "    ])\n",
    "\n",
    "print(\"foo:\", foo)\n",
    "print(\"bar:\", bar)\n",
    "print(\"spam:\", spam)"
   ]
  },
  {
   "cell_type": "code",
   "execution_count": 2,
   "metadata": {},
   "outputs": [
    {
     "name": "stdout",
     "output_type": "stream",
     "text": [
      "spam: {'key_1': 10, 'key_2': 'Hello, world', 'key_3': [10, 20, 30]}\n"
     ]
    }
   ],
   "source": [
    "keys = [\"key_1\", \"key_2\", \"key_3\"]\n",
    "values = [10, \"Hello, world\", [10, 20, 30]]\n",
    "spam = dict(zip(keys, values))\n",
    "\n",
    "print(\"spam:\", spam)"
   ]
  },
  {
   "cell_type": "code",
   "execution_count": 3,
   "metadata": {},
   "outputs": [
    {
     "name": "stdout",
     "output_type": "stream",
     "text": [
      "bar: {'key_10': 20, 'key_15': 30, 'key_42': 84, 'key_51': 102, 'key_35': 70, 'key_0': 0}\n"
     ]
    }
   ],
   "source": [
    "foo = [10, 15, 42, 51, 35, 0]\n",
    "bar = {\"key_\" + str(n): n * 2 for n in foo}\n",
    "\n",
    "print(\"bar:\", bar)"
   ]
  },
  {
   "cell_type": "code",
   "execution_count": 4,
   "metadata": {},
   "outputs": [
    {
     "name": "stdout",
     "output_type": "stream",
     "text": [
      "bar: {'key_15': 30, 'key_51': 102, 'key_35': 70}\n"
     ]
    }
   ],
   "source": [
    "foo = [10, 15, 42, 51, 35, 0]\n",
    "bar = {\"key_\" + str(n): n * 2 for n in foo if n % 2 != 0}\n",
    "\n",
    "print(\"bar:\", bar)"
   ]
  },
  {
   "cell_type": "code",
   "execution_count": 6,
   "metadata": {},
   "outputs": [
    {
     "name": "stdout",
     "output_type": "stream",
     "text": [
      "bar: [10, 20, 30]\n"
     ]
    }
   ],
   "source": [
    "foo = {\n",
    "    \"key_1\": 10,\n",
    "    \"key_2\": \"Hello, world\",\n",
    "    \"key_3\": [10, 20, 30]\n",
    "}\n",
    "\n",
    "bar = foo[\"key_3\"]\n",
    "print(\"bar:\", bar)"
   ]
  },
  {
   "cell_type": "code",
   "execution_count": 9,
   "metadata": {},
   "outputs": [
    {
     "name": "stdout",
     "output_type": "stream",
     "text": [
      "\"key_3\" in foo: True\n",
      "\"key_42\" in foo: False\n",
      "\"key_36\" not in foo: True\n"
     ]
    }
   ],
   "source": [
    "foo = { \"key_1\": 10, \"key_2\": \"Hello, world\", \"key_3\": [10, 20, 30] }\n",
    "print('\"key_3\" in foo:', \"key_3\" in foo)\n",
    "print('\"key_42\" in foo:', \"key_42\" in foo)\n",
    "print('\"key_36\" not in foo:', \"key_36\" not in foo)"
   ]
  },
  {
   "cell_type": "code",
   "execution_count": 15,
   "metadata": {},
   "outputs": [
    {
     "name": "stdout",
     "output_type": "stream",
     "text": [
      "foo: {'key_str': 'Hello, world', 100: [10, 20, 30], None: 0}\n"
     ]
    }
   ],
   "source": [
    "# Ключи могут быть разного типа\n",
    "foo = {\n",
    "    \"key_str\": \"Hello, world\",\n",
    "    100: [10, 20, 30],\n",
    "    None: 0,\n",
    "}\n",
    "\n",
    "print(\"foo:\", foo)"
   ]
  },
  {
   "cell_type": "code",
   "execution_count": 16,
   "metadata": {},
   "outputs": [],
   "source": [
    "# Не все типы могут выступать в качестве ключей\n",
    "# Ошибка!\n",
    "# foo = {[1, 2, 3]: \"Hello, world\"}\n",
    "\n",
    "# foo = {{}: \"Hello, world\"}"
   ]
  },
  {
   "cell_type": "code",
   "execution_count": 5,
   "metadata": {},
   "outputs": [
    {
     "name": "stdout",
     "output_type": "stream",
     "text": [
      "foo: {'key_1': 200, 'key_2': 'Hello, world', 'key_3': [10, 20, 30]}\n"
     ]
    }
   ],
   "source": [
    "foo = {}\n",
    "foo[\"key_1\"] = 10\n",
    "foo[\"key_2\"] = \"Hello, world\"\n",
    "foo[\"key_3\"] = [10, 20, 30]\n",
    "foo[\"key_1\"] = 200\n",
    "\n",
    "print(\"foo:\", foo)"
   ]
  },
  {
   "cell_type": "code",
   "execution_count": 18,
   "metadata": {},
   "outputs": [
    {
     "name": "stdout",
     "output_type": "stream",
     "text": [
      "['__class__', '__class_getitem__', '__contains__', '__delattr__', '__delitem__', '__dir__', '__doc__', '__eq__', '__format__', '__ge__', '__getattribute__', '__getitem__', '__getstate__', '__gt__', '__hash__', '__init__', '__init_subclass__', '__ior__', '__iter__', '__le__', '__len__', '__lt__', '__ne__', '__new__', '__or__', '__reduce__', '__reduce_ex__', '__repr__', '__reversed__', '__ror__', '__setattr__', '__setitem__', '__sizeof__', '__str__', '__subclasshook__', 'clear', 'copy', 'fromkeys', 'get', 'items', 'keys', 'pop', 'popitem', 'setdefault', 'update', 'values']\n"
     ]
    }
   ],
   "source": [
    "print(dir(dict))"
   ]
  },
  {
   "cell_type": "code",
   "execution_count": 19,
   "metadata": {},
   "outputs": [
    {
     "name": "stdout",
     "output_type": "stream",
     "text": [
      "Hello, dict\n"
     ]
    }
   ],
   "source": [
    "# Получение элементов словаря\n",
    "foo = {\n",
    "    \"key_1\": 10,\n",
    "    \"key_2\": \"Hello, dict\",\n",
    "    \"key_3\": [10, 20, 30]\n",
    "}\n",
    "\n",
    "print(foo[\"key_2\"])"
   ]
  },
  {
   "cell_type": "code",
   "execution_count": 20,
   "metadata": {},
   "outputs": [],
   "source": [
    "# Попытка получить отсутствующий элемент\n",
    "foo = {\n",
    "    \"key_1\": 10,\n",
    "    \"key_2\": \"Hello, dict\",\n",
    "    \"key_3\": [10, 20, 30]\n",
    "}\n",
    "\n",
    "# ! Ошибка\n",
    "# print(foo[\"invalid_key\"])"
   ]
  },
  {
   "cell_type": "code",
   "execution_count": 1,
   "metadata": {},
   "outputs": [
    {
     "name": "stdout",
     "output_type": "stream",
     "text": [
      "bar:  10\n",
      "spam: None\n",
      "eggs: 0\n"
     ]
    }
   ],
   "source": [
    "# Использование dict.get()\n",
    "foo = { \"key_1\": 10, \"key_2\": \"Hello, world\", \"key_3\": [10, 20, 30] }\n",
    "\n",
    "bar = foo.get(\"key_1\")\n",
    "spam = foo.get(\"invalid_key\")\n",
    "eggs = foo.get(\"invalid_key\", 0)\n",
    "\n",
    "print(\"bar: \", bar)\n",
    "print(\"spam:\", spam)\n",
    "print(\"eggs:\", eggs)"
   ]
  },
  {
   "cell_type": "code",
   "execution_count": 22,
   "metadata": {},
   "outputs": [
    {
     "name": "stdout",
     "output_type": "stream",
     "text": [
      "bar:  10\n",
      "spam: 0\n"
     ]
    }
   ],
   "source": [
    "# Использование dict.get() с указанием значения по умолчанию\n",
    "foo = {\n",
    "    \"key_1\": 10,\n",
    "    \"key_2\": \"Hello, dict\",\n",
    "    \"key_3\": [10, 20, 30]\n",
    "}\n",
    "\n",
    "bar = foo.get(\"key_1\", 0)\n",
    "spam = foo.get(\"invalid_key\", 0)\n",
    "\n",
    "print(\"bar: \", bar)\n",
    "print(\"spam:\", spam)"
   ]
  },
  {
   "cell_type": "code",
   "execution_count": 4,
   "metadata": {},
   "outputs": [
    {
     "name": "stdout",
     "output_type": "stream",
     "text": [
      "foo: {'key_1': 10, 'key_2': 'Hello, world'}\n"
     ]
    }
   ],
   "source": [
    "# Удаление элементов\n",
    "foo = {\n",
    "    \"key_1\": 10,\n",
    "    \"key_2\": \"Hello, world\",\n",
    "    \"key_3\": [10, 20, 30]\n",
    "}\n",
    "\n",
    "del foo[\"key_3\"]\n",
    "\n",
    "print(\"foo:\", foo)"
   ]
  },
  {
   "cell_type": "code",
   "execution_count": 24,
   "metadata": {},
   "outputs": [
    {
     "name": "stdout",
     "output_type": "stream",
     "text": [
      "bar: None\n"
     ]
    }
   ],
   "source": [
    "# Проверка наличия ключа\n",
    "\n",
    "foo = {\"key_1\": 10, \"key_2\": 20}\n",
    "key = \"unknown_key\"\n",
    "\n",
    "if key in foo:\n",
    "    bar = foo[key]\n",
    "else:\n",
    "    bar = None\n",
    "    \n",
    "print(\"bar:\", bar)"
   ]
  },
  {
   "cell_type": "code",
   "execution_count": 25,
   "metadata": {},
   "outputs": [
    {
     "name": "stdout",
     "output_type": "stream",
     "text": [
      "bar: None\n"
     ]
    }
   ],
   "source": [
    "# Проверка наличия ключа\n",
    "\n",
    "foo = {\"key_1\": 10, \"key_2\": 20}\n",
    "key = \"unknown_key\"\n",
    "\n",
    "bar = foo[key] if key in foo else None\n",
    "print(\"bar:\", bar)"
   ]
  },
  {
   "cell_type": "code",
   "execution_count": 26,
   "metadata": {},
   "outputs": [
    {
     "name": "stdout",
     "output_type": "stream",
     "text": [
      "bar: None\n"
     ]
    }
   ],
   "source": [
    "# Проверка наличия ключа\n",
    "\n",
    "foo = {\"key_1\": 10, \"key_2\": 20}\n",
    "key = \"unknown_key\"\n",
    "\n",
    "bar = None if key not in foo else foo[key]\n",
    "print(\"bar:\", bar)"
   ]
  },
  {
   "cell_type": "code",
   "execution_count": 27,
   "metadata": {},
   "outputs": [
    {
     "name": "stdout",
     "output_type": "stream",
     "text": [
      "bar: None\n",
      "spam: 10\n"
     ]
    }
   ],
   "source": [
    "foo = {\"key_1\": 10, \"key_2\": 20}\n",
    "\n",
    "bar = foo.get(\"unknown_key\")\n",
    "spam = foo.get(\"key_1\")\n",
    "\n",
    "print(\"bar:\", bar)\n",
    "print(\"spam:\", spam)"
   ]
  },
  {
   "cell_type": "code",
   "execution_count": 28,
   "metadata": {},
   "outputs": [
    {
     "name": "stdout",
     "output_type": "stream",
     "text": [
      "bar: 0\n",
      "spam: 10\n"
     ]
    }
   ],
   "source": [
    "foo = {\"key_1\": 10, \"key_2\": 20}\n",
    "\n",
    "bar = foo.get(\"unknown_key\", 0)\n",
    "spam = foo.get(\"key_1\", 0)\n",
    "\n",
    "print(\"bar:\", bar)\n",
    "print(\"spam:\", spam)"
   ]
  },
  {
   "cell_type": "code",
   "execution_count": 29,
   "metadata": {},
   "outputs": [
    {
     "name": "stdout",
     "output_type": "stream",
     "text": [
      "foo: {}\n"
     ]
    }
   ],
   "source": [
    "# Удаление всех элементов словаря\n",
    "\n",
    "foo = {\"key_1\": 10, \"key_2\": 20}\n",
    "foo.clear()\n",
    "\n",
    "print(\"foo:\", foo)"
   ]
  },
  {
   "cell_type": "code",
   "execution_count": 30,
   "metadata": {},
   "outputs": [
    {
     "name": "stdout",
     "output_type": "stream",
     "text": [
      "foo: {'key_1': 10, 'key_2': 20, 'new_key': 30}\n",
      "bar: 30\n"
     ]
    }
   ],
   "source": [
    "# Добавление нового элемента в словарь\n",
    "# без перезаписи имеющегося значения\n",
    "\n",
    "foo = {\"key_1\": 10, \"key_2\": 20}\n",
    "\n",
    "# Данный ключ отсутствует в словаре\n",
    "new_key = \"new_key\"\n",
    "new_value = 30\n",
    "\n",
    "if new_key not in foo:\n",
    "    foo[new_key] = new_value\n",
    "    bar = new_value\n",
    "else:\n",
    "    bar = foo[new_key]\n",
    "    \n",
    "print(\"foo:\", foo)\n",
    "print(\"bar:\", bar)"
   ]
  },
  {
   "cell_type": "code",
   "execution_count": 31,
   "metadata": {},
   "outputs": [
    {
     "name": "stdout",
     "output_type": "stream",
     "text": [
      "foo: {'key_1': 10, 'key_2': 20}\n",
      "bar: 10\n"
     ]
    }
   ],
   "source": [
    "# Добавление нового элемента в словарь\n",
    "# без перезаписи имеющегося значения\n",
    "\n",
    "foo = {\"key_1\": 10, \"key_2\": 20}\n",
    "\n",
    "# Данный ключ имеется в словаре\n",
    "new_key = \"key_1\"\n",
    "new_value = 30\n",
    "\n",
    "if new_key not in foo:\n",
    "    foo[new_key] = new_value\n",
    "    bar = new_value\n",
    "else:\n",
    "    bar = foo[new_key]\n",
    "    \n",
    "print(\"foo:\", foo)\n",
    "print(\"bar:\", bar)"
   ]
  },
  {
   "cell_type": "code",
   "execution_count": 32,
   "metadata": {},
   "outputs": [
    {
     "name": "stdout",
     "output_type": "stream",
     "text": [
      "foo: {'key_1': 10, 'key_2': 20, 'new_key': 30}\n",
      "bar: 30\n"
     ]
    }
   ],
   "source": [
    "# Добавление нового элемента в словарь\n",
    "# без перезаписи имеющегося значения\n",
    "# Используем метод setdefault()\n",
    "\n",
    "foo = {\"key_1\": 10, \"key_2\": 20}\n",
    "\n",
    "# Данный ключ отсутствует в словаре\n",
    "new_key = \"new_key\"\n",
    "new_value = 30\n",
    "\n",
    "bar = foo.setdefault(new_key, new_value)\n",
    "\n",
    "print(\"foo:\", foo)\n",
    "print(\"bar:\", bar)"
   ]
  },
  {
   "cell_type": "code",
   "execution_count": 33,
   "metadata": {},
   "outputs": [
    {
     "name": "stdout",
     "output_type": "stream",
     "text": [
      "foo: {'key_1': 10, 'key_2': 20}\n",
      "bar: 10\n"
     ]
    }
   ],
   "source": [
    "# Добавление нового элемента в словарь\n",
    "# без перезаписи имеющегося значения\n",
    "# Используем метод setdefault()\n",
    "\n",
    "foo = {\"key_1\": 10, \"key_2\": 20}\n",
    "\n",
    "# Данный ключ имеется в словаре\n",
    "new_key = \"key_1\"\n",
    "new_value = 30\n",
    "\n",
    "bar = foo.setdefault(new_key, new_value)\n",
    "\n",
    "print(\"foo:\", foo)\n",
    "print(\"bar:\", bar)"
   ]
  },
  {
   "cell_type": "code",
   "execution_count": 12,
   "metadata": {},
   "outputs": [
    {
     "name": "stdout",
     "output_type": "stream",
     "text": [
      "foo: {'key_1': 10, 'key_2': 20, 'new_key': 30}\n"
     ]
    }
   ],
   "source": [
    "foo = {\"key_1\": 10, \"key_2\": 20}\n",
    "foo.setdefault(\"new_key\", 30)\n",
    "foo.setdefault(\"key_1\", 100)\n",
    "print(\"foo:\", foo)"
   ]
  },
  {
   "cell_type": "code",
   "execution_count": 8,
   "metadata": {},
   "outputs": [
    {
     "name": "stdout",
     "output_type": "stream",
     "text": [
      "key_1\n",
      "key_2\n",
      "key_3\n"
     ]
    }
   ],
   "source": [
    "# Перебор всех ключей словаря\n",
    "foo = {\"key_1\": 10, \"key_2\": 20, \"key_3\": 30}\n",
    "for key in foo:\n",
    "    print(key)"
   ]
  },
  {
   "cell_type": "code",
   "execution_count": 34,
   "metadata": {},
   "outputs": [
    {
     "name": "stdout",
     "output_type": "stream",
     "text": [
      "key_1\n",
      "key_2\n",
      "key_3\n"
     ]
    }
   ],
   "source": [
    "# Перебор всех ключей словаря\n",
    "foo = {\"key_1\": 10, \"key_2\": 20, \"key_3\": 30}\n",
    "for key in foo.keys():\n",
    "    print(key)"
   ]
  },
  {
   "cell_type": "code",
   "execution_count": 7,
   "metadata": {},
   "outputs": [
    {
     "name": "stdout",
     "output_type": "stream",
     "text": [
      "10\n",
      "20\n",
      "30\n"
     ]
    }
   ],
   "source": [
    "# Перебор всех значений словаря\n",
    "foo = {\"key_1\": 10, \"key_2\": 20, \"key_3\": 30}\n",
    "for val in foo.values():\n",
    "    print(val)"
   ]
  },
  {
   "cell_type": "code",
   "execution_count": 36,
   "metadata": {},
   "outputs": [
    {
     "name": "stdout",
     "output_type": "stream",
     "text": [
      "key_1 -> 10\n",
      "key_2 -> 20\n",
      "key_3 -> 30\n"
     ]
    }
   ],
   "source": [
    "# Одновременный перебор всех ключей и значений словаря\n",
    "foo = {\"key_1\": 10, \"key_2\": 20, \"key_3\": 30}\n",
    "for key, value in foo.items():\n",
    "    print(key, \"->\", value)"
   ]
  },
  {
   "cell_type": "code",
   "execution_count": 37,
   "metadata": {},
   "outputs": [
    {
     "name": "stdout",
     "output_type": "stream",
     "text": [
      "type(keys) <class 'dict_keys'>\n",
      "type(values) <class 'dict_values'>\n",
      "type(items) <class 'dict_items'>\n"
     ]
    }
   ],
   "source": [
    "foo = {\"key_1\": 10, \"key_2\": 20, \"key_3\": 30}\n",
    "keys = foo.keys()\n",
    "values = foo.values()\n",
    "items = foo.items()\n",
    "\n",
    "print(\"type(keys)\", type(keys))\n",
    "print(\"type(values)\", type(values))\n",
    "print(\"type(items)\", type(items))"
   ]
  },
  {
   "cell_type": "code",
   "execution_count": 38,
   "metadata": {},
   "outputs": [
    {
     "name": "stdout",
     "output_type": "stream",
     "text": [
      "keys: dict_keys(['key_1', 'key_2', 'key_3'])\n",
      "values dict_values([10, 20, 30])\n",
      "items dict_items([('key_1', 10), ('key_2', 20), ('key_3', 30)])\n",
      "\n",
      "keys: dict_keys(['key_1', 'key_2', 'key_3', 'new_key'])\n",
      "values dict_values([10, 20, 30, 100])\n",
      "items dict_items([('key_1', 10), ('key_2', 20), ('key_3', 30), ('new_key', 100)])\n"
     ]
    }
   ],
   "source": [
    "foo = {\"key_1\": 10, \"key_2\": 20, \"key_3\": 30}\n",
    "keys = foo.keys()\n",
    "values = foo.values()\n",
    "items = foo.items()\n",
    "\n",
    "print(\"keys:\", keys)\n",
    "print(\"values\", values)\n",
    "print(\"items\", items)\n",
    "\n",
    "foo[\"new_key\"] = 100\n",
    "\n",
    "print()\n",
    "print(\"keys:\", keys)\n",
    "print(\"values\", values)\n",
    "print(\"items\", items)"
   ]
  },
  {
   "cell_type": "code",
   "execution_count": 39,
   "metadata": {},
   "outputs": [
    {
     "name": "stdout",
     "output_type": "stream",
     "text": [
      "{'key_1': 100, 'key_2': 200, 'key_3': 30, 'key_other': 1000}\n"
     ]
    }
   ],
   "source": [
    "# Обновление словаря на основе другого словаря\n",
    "# Реализация в виде цикла\n",
    "\n",
    "foo = {\"key_1\": 10, \"key_2\": 20, \"key_3\": 30}\n",
    "bar = {\"key_1\": 100, \"key_2\": 200, \"key_other\": 1000}\n",
    "\n",
    "for key, value in bar.items():\n",
    "    foo[key] = value\n",
    "    \n",
    "print(foo)"
   ]
  },
  {
   "cell_type": "code",
   "execution_count": 13,
   "metadata": {},
   "outputs": [
    {
     "name": "stdout",
     "output_type": "stream",
     "text": [
      "foo: {'key_1': 100, 'key_2': 200, 'key_3': 30, 'key_other': 1000}\n"
     ]
    }
   ],
   "source": [
    "# Обновление словаря на основе другого словаря\n",
    "# Использование метода update()\n",
    "\n",
    "foo = {\"key_1\": 10, \"key_2\": 20, \"key_3\": 30}\n",
    "bar = {\"key_1\": 100, \"key_2\": 200, \"key_other\": 1000}\n",
    "foo.update(bar)\n",
    "print(\"foo:\", foo)"
   ]
  },
  {
   "cell_type": "code",
   "execution_count": 2,
   "metadata": {},
   "outputs": [
    {
     "name": "stdout",
     "output_type": "stream",
     "text": [
      "foo: {'key_1': 100, 'key_2': 200, 'key_3': 30, 'key_other': 1000}\n"
     ]
    }
   ],
   "source": [
    "foo = {\"key_1\": 10, \"key_2\": 20, \"key_3\": 30}\n",
    "bar = [(\"key_1\", 100), (\"key_2\", 200), (\"key_other\", 1000)]\n",
    "foo.update(bar)\n",
    "print(\"foo:\", foo)"
   ]
  },
  {
   "cell_type": "code",
   "execution_count": 41,
   "metadata": {},
   "outputs": [
    {
     "name": "stdout",
     "output_type": "stream",
     "text": [
      "foo: {'key_1': None, 'key_2': None, 'key_3': None}\n",
      "bar: {'key_1': 0, 'key_2': 0, 'key_3': 0}\n"
     ]
    }
   ],
   "source": [
    "# Создание словаря на основе списка ключей\n",
    "# со значениями по умолчанию\n",
    "\n",
    "keys = [\"key_1\", \"key_2\", \"key_3\"]\n",
    "\n",
    "foo = dict.fromkeys(keys)\n",
    "bar = dict.fromkeys(keys, 0)\n",
    "\n",
    "print(\"foo:\", foo)\n",
    "print(\"bar:\", bar)"
   ]
  },
  {
   "cell_type": "code",
   "execution_count": 42,
   "metadata": {},
   "outputs": [
    {
     "name": "stdout",
     "output_type": "stream",
     "text": [
      "1) foo: {'key_1': [], 'key_2': [], 'key_3': []}\n",
      "2) foo: {'key_1': [10], 'key_2': [10], 'key_3': [10]}\n"
     ]
    }
   ],
   "source": [
    "# Опасное использование значения по умолчанию\n",
    "\n",
    "keys = [\"key_1\", \"key_2\", \"key_3\"]\n",
    "\n",
    "foo = dict.fromkeys(keys, [])\n",
    "\n",
    "print(\"1) foo:\", foo)\n",
    "\n",
    "foo[\"key_1\"].append(10)\n",
    "\n",
    "print(\"2) foo:\", foo)"
   ]
  },
  {
   "cell_type": "code",
   "execution_count": 43,
   "metadata": {},
   "outputs": [
    {
     "name": "stdout",
     "output_type": "stream",
     "text": [
      "1) foo: {'key_1': [], 'key_2': [], 'key_3': []}\n",
      "2) foo: {'key_1': [10], 'key_2': [10], 'key_3': [10]}\n"
     ]
    }
   ],
   "source": [
    "# Опасное использование значения по умолчанию\n",
    "# Пояснение к предыдущему коду\n",
    "\n",
    "keys = [\"key_1\", \"key_2\", \"key_3\"]\n",
    "\n",
    "default = []\n",
    "foo = dict.fromkeys(keys, default)\n",
    "\n",
    "print(\"1) foo:\", foo)\n",
    "\n",
    "foo[\"key_1\"].append(10)\n",
    "\n",
    "print(\"2) foo:\", foo)"
   ]
  },
  {
   "cell_type": "code",
   "execution_count": 44,
   "metadata": {},
   "outputs": [
    {
     "name": "stdout",
     "output_type": "stream",
     "text": [
      "bar: {'key_1': 10, 'key_2': 20, 'key_3': 30}\n"
     ]
    }
   ],
   "source": [
    "foo = {\"key_1\": 10, \"key_2\": 20, \"key_3\": 30}\n",
    "bar = foo.copy()\n",
    "\n",
    "print(\"bar:\", bar)"
   ]
  },
  {
   "cell_type": "code",
   "execution_count": 6,
   "metadata": {},
   "outputs": [
    {
     "name": "stdout",
     "output_type": "stream",
     "text": [
      "hash(foo): 8243592948626242269\n",
      "hash(bar): 529344067295497451\n",
      "hash(baz): 529344067295497451\n",
      "hash(bam): 8477238830141211852\n",
      "hash(eggs): 1152921504606846989\n",
      "hash(spam): 150\n"
     ]
    }
   ],
   "source": [
    "foo = \"Hello, world\"\n",
    "bar = (1, 2, 3)\n",
    "baz = (1, 2, 3)\n",
    "bam = (0, 2, 3)\n",
    "eggs = 13.5\n",
    "spam = 150\n",
    "\n",
    "print(\"hash(foo):\", hash(foo))\n",
    "print(\"hash(bar):\", hash(bar))\n",
    "print(\"hash(baz):\", hash(baz))\n",
    "print(\"hash(bam):\", hash(bam))\n",
    "print(\"hash(eggs):\", hash(eggs))\n",
    "print(\"hash(spam):\", hash(spam))"
   ]
  },
  {
   "cell_type": "code",
   "execution_count": null,
   "metadata": {},
   "outputs": [],
   "source": []
  }
 ],
 "metadata": {
  "kernelspec": {
   "display_name": "Python 3",
   "language": "python",
   "name": "python3"
  },
  "language_info": {
   "codemirror_mode": {
    "name": "ipython",
    "version": 3
   },
   "file_extension": ".py",
   "mimetype": "text/x-python",
   "name": "python",
   "nbconvert_exporter": "python",
   "pygments_lexer": "ipython3",
   "version": "3.12.4"
  }
 },
 "nbformat": 4,
 "nbformat_minor": 2
}
